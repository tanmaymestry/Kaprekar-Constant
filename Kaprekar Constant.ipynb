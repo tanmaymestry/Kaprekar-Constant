{
 "cells": [
  {
   "cell_type": "code",
   "execution_count": 6,
   "id": "3a9bf8a3-b0f5-4d84-a1a6-5bc2eb13dca7",
   "metadata": {},
   "outputs": [],
   "source": [
    "# Import libraries\n",
    "import pandas as pd\n",
    "from IPython.display import display"
   ]
  },
  {
   "cell_type": "markdown",
   "id": "42d09514-c112-4e0b-a15c-a0456f037bf1",
   "metadata": {},
   "source": [
    "The function below performs a mathematical process called Kaprekar's Routine. \n",
    "It works with 3-digit or 4-digit numbers and follows these steps:\n",
    "1) Take a number (like 123 or 4567).\n",
    "2) Rearrange its digits to form the largest possible number (e.g., 321 for 123).\n",
    "3) Rearrange its digits again to form the smallest possible number (e.g., 123 for 321).\n",
    "4) Subtract the smallest number from the largest number (e.g., 321 - 123 = 198).\n",
    "5) Repeat the process with the result until you reach a special number called the Kaprekar constant:\n",
    "   - For 3-digit numbers, the constant is 495.\n",
    "   - For 4-digit numbers, the constant is 6174.\n",
    "If all the digits in the number are the same (like 111 or 2222), the process won't work as the difference will be 0, and the function will let you know.\n",
    "The function also counts how many steps it takes to reach the constant and keeps track of each step for you to see."
   ]
  },
  {
   "cell_type": "code",
   "execution_count": null,
   "id": "233070ee-5444-4ffb-b7af-9f57421ad14f",
   "metadata": {},
   "outputs": [],
   "source": [
    "def kaprekar_routine(n):\n",
    "    num_str = str(n)\n",
    "    if not num_str.isdigit() or len(num_str) not in [3, 4]:\n",
    "        raise ValueError(\"Invalid input! Please enter a 3-digit or 4-digit number.\")\n",
    "    if len(set(num_str)) == 1:\n",
    "        return \"All digits are the same, so it will never reach Kaprekar's constant.\"\n",
    "    \n",
    "    kaprekar_const = 495 if len(num_str) == 3 else 6174\n",
    "    count = 0\n",
    "    steps = []\n",
    "    \n",
    "    while n != kaprekar_const:\n",
    "        num_str = f\"{n:0{len(num_str)}d}\"\n",
    "        large = int(\"\".join(sorted(num_str, reverse=True)))\n",
    "        small = int(\"\".join(sorted(num_str)))\n",
    "        diff = large - small\n",
    "        count += 1\n",
    "        steps.append([count, large, small, diff])\n",
    "        n = diff\n",
    "\n",
    "    \"\"\"\n",
    "    This part organizes the Kaprekar's Routine steps into a table and highlights the final result (495 or 6174) in green.\n",
    "    It also asks the user for a 3-digit or 4-digit number, runs the routine, and displays it in tabular format.\n",
    "    \"\"\"\n",
    "    # Convert steps into a table for better readability\n",
    "    df = pd.DataFrame(steps, columns=[\"Step\", \"Sorted Descending (Largest)\", \"Sorted Ascending (Smallest)\", \"Difference\"])\n",
    "\n",
    "    # Function to highlight the Kaprekar constant in green\n",
    "    def highlight_kaprekar(val):\n",
    "        return 'color: green; font-weight: bold;' if val == kaprekar_const else ''\n",
    "\n",
    "    # Apply highlighting to the 'Difference' column and display the table\n",
    "    styled_df = df.style.applymap(highlight_kaprekar, subset=['Difference'])\n",
    "    print(\"\\nKaprekar Routine Steps:\")\n",
    "    display(styled_df.set_table_styles([\n",
    "        {'selector': 'th', 'props': [('border', '1px solid black'), ('padding', '8px'), ('background-color', '#f2f2f2')]},\n",
    "        {'selector': 'td', 'props': [('border', '1px solid black'), ('padding', '8px')]}\n",
    "    ]))\n",
    "\n",
    "    # Make the input number bold and visible in the output\n",
    "    return f\"\\nKaprekar constant {kaprekar_const} reached in {count} steps for input number: **{num}**.\"\n",
    "\n",
    "# Ask the user for input\n",
    "num = input(\"Enter a 3-digit or 4-digit number: \")\n",
    "\n",
    "# Run the function and handle errors\n",
    "try:\n",
    "    num = int(num)\n",
    "    result = kaprekar_routine(num)\n",
    "    print(result)\n",
    "except ValueError as e:\n",
    "    print(f\"Error: {e}\")"
   ]
  }
 ],
 "metadata": {
  "kernelspec": {
   "display_name": "Python 3 (ipykernel)",
   "language": "python",
   "name": "python3"
  },
  "language_info": {
   "codemirror_mode": {
    "name": "ipython",
    "version": 3
   },
   "file_extension": ".py",
   "mimetype": "text/x-python",
   "name": "python",
   "nbconvert_exporter": "python",
   "pygments_lexer": "ipython3",
   "version": "3.12.7"
  }
 },
 "nbformat": 4,
 "nbformat_minor": 5
}
